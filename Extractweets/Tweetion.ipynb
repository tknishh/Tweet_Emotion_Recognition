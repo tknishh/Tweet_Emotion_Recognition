{
 "cells": [
  {
   "cell_type": "code",
   "execution_count": 2,
   "id": "bd3f8a72",
   "metadata": {},
   "outputs": [],
   "source": [
    "import tweepy\n",
    "from tweepy import *\n",
    "\n",
    "import pandas as pd\n",
    "import csv\n",
    "import re\n",
    "import string\n",
    "import preprocessor as p\n",
    "\n",
    "consumer_key = \"SNOF0eynAYjL6lqRTVmpzuDX1\"\n",
    "consumer_secret = \"WaICTgMNjj9lfMJVOSVO7eIoEVPm2mk2D9FIfDevoz261HwDOb\"\n",
    "access_key = \"936311765872152577-lSSONwVkVKlFw2AYGk3JgdrSW9dU30E\"\n",
    "access_secret = \"rUvgEeAHUmdkdZ1VOiC9r4DEyaC4oDJueksoICerAtbvU\""
   ]
  },
  {
   "cell_type": "code",
   "execution_count": 3,
   "id": "d5f6984b",
   "metadata": {},
   "outputs": [],
   "source": [
    "auth = tweepy.OAuthHandler(consumer_key, consumer_secret)\n",
    "auth.set_access_token(access_key, access_secret)\n",
    " \n",
    "api = tweepy.API(auth,wait_on_rate_limit=True)\n",
    "\n",
    "csvFile = open('Etweet', 'a')\n",
    "csvWriter = csv.writer(csvFile)"
   ]
  },
  {
   "cell_type": "code",
   "execution_count": null,
   "id": "cac5233f",
   "metadata": {},
   "outputs": [],
   "source": [
    "search_words = \"love\"\n",
    "new_search = search_words + \"-filter:retweets\"\n",
    "\n",
    "for tweet in tweepy.Cursor(api.search_tweets, q=new_search, count=50,\n",
    "                          lang=\"en\", since_id=0).items():\n",
    "    csvWriter.writerow([tweet.created_at,tweet.text.encode('utf-8'),tweet.user.screen_name.encode('utf-8'), \n",
    "                        tweet.user.location.encode('utf-8')])"
   ]
  },
  {
   "cell_type": "code",
   "execution_count": null,
   "id": "f4d2b306",
   "metadata": {},
   "outputs": [],
   "source": []
  }
 ],
 "metadata": {
  "kernelspec": {
   "display_name": "Python 3 (ipykernel)",
   "language": "python",
   "name": "python3"
  },
  "language_info": {
   "codemirror_mode": {
    "name": "ipython",
    "version": 3
   },
   "file_extension": ".py",
   "mimetype": "text/x-python",
   "name": "python",
   "nbconvert_exporter": "python",
   "pygments_lexer": "ipython3",
   "version": "3.10.2"
  }
 },
 "nbformat": 4,
 "nbformat_minor": 5
}
